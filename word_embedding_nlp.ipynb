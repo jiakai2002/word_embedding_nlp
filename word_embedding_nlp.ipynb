{
 "cells": [
  {
   "cell_type": "code",
   "execution_count": 3,
   "metadata": {},
   "outputs": [
    {
     "name": "stdout",
     "output_type": "stream",
     "text": [
      "['/Users/jiaenchang/nltk_data']\n"
     ]
    },
    {
     "name": "stderr",
     "output_type": "stream",
     "text": [
      "[nltk_data] Downloading package punkt to\n",
      "[nltk_data]     /Users/jiaenchang/nltk_data...\n",
      "[nltk_data]   Package punkt is already up-to-date!\n",
      "[nltk_data] Downloading package stopwords to\n",
      "[nltk_data]     /Users/jiaenchang/nltk_data...\n",
      "[nltk_data]   Package stopwords is already up-to-date!\n",
      "[nltk_data] Downloading package inaugural to\n",
      "[nltk_data]     /Users/jiaenchang/nltk_data...\n",
      "[nltk_data]   Package inaugural is already up-to-date!\n"
     ]
    },
    {
     "data": {
      "text/plain": [
       "True"
      ]
     },
     "execution_count": 3,
     "metadata": {},
     "output_type": "execute_result"
    }
   ],
   "source": [
    "import nltk\n",
    "import re\n",
    "from nltk.corpus import inaugural, stopwords\n",
    "from nltk.tokenize import word_tokenize\n",
    "import numpy as np\n",
    "from gensim.models import Word2Vec\n",
    "from sklearn.metrics.pairwise import cosine_similarity\n",
    "from numpy.linalg import svd\n",
    "nltk.data.path = []\n",
    "nltk.data.path.append('/Users/jiaenchang/nltk_data')\n",
    "print(nltk.data.path)\n",
    "nltk.download('punkt')\n",
    "nltk.download('stopwords')\n",
    "nltk.download('inaugural')"
   ]
  },
  {
   "cell_type": "markdown",
   "metadata": {},
   "source": [
    "(a) Write the load_data function to load inaugural corpus and pre-process the text: remove non-letters, convert into the lower case, and remove the stop words."
   ]
  },
  {
   "cell_type": "code",
   "execution_count": null,
   "metadata": {},
   "outputs": [
    {
     "name": "stdout",
     "output_type": "stream",
     "text": [
      "[['senate', 'house', 'representatives', 'among', 'vicissitudes', 'incident', 'life', 'event', 'could', 'filled', 'greater', 'anxieties', 'notification', 'transmitted', 'order', 'received', 'day', 'present', 'month', 'one', 'hand', 'summoned', 'country', 'whose', 'voice', 'never', 'hear', 'veneration', 'love', 'retreat', 'chosen', 'fondest', 'predilection', 'flattering', 'hopes', 'immutable', 'decision', 'asylum', 'declining', 'years', 'retreat', 'rendered', 'every', 'day', 'necessary', 'well', 'dear', 'addition', 'habit', 'inclination', 'frequent', 'interruptions', 'health', 'gradual', 'waste', 'committed', 'time', 'hand', 'magnitude', 'difficulty', 'trust', 'voice', 'country', 'called', 'sufficient', 'awaken', 'wisest', 'experienced', 'citizens', 'distrustful', 'scrutiny', 'qualifications', 'could', 'overwhelm', 'despondence', 'one', 'inheriting', 'inferior', 'endowments', 'nature', 'unpracticed', 'duties', 'civil', 'administration', 'ought', 'peculiarly', 'conscious', 'deficiencies', 'conflict', 'emotions', 'dare', 'aver', 'faithful', 'study', 'collect', 'duty', 'appreciation', 'every', 'circumstance', 'might', 'affected', 'dare', 'hope', 'executing', 'task', 'much', 'swayed', 'grateful', 'remembrance', 'former', 'instances', 'affectionate', 'sensibility', 'transcendent', 'proof', 'confidence', 'fellow', 'citizens', 'thence', 'little', 'consulted', 'incapacity', 'well', 'disinclination', 'weighty', 'untried', 'cares', 'error', 'palliated', 'motives', 'mislead', 'consequences', 'judged', 'country', 'share', 'partiality', 'originated', 'impressions', 'obedience', 'public', 'summons', 'repaired', 'present', 'station', 'would', 'peculiarly', 'improper', 'omit', 'first', 'official', 'act', 'fervent', 'supplications', 'almighty', 'rules', 'universe', 'presides', 'councils', 'nations', 'whose', 'providential', 'aids', 'supply', 'every', 'human', 'defect', 'benediction', 'may', 'consecrate', 'liberties', 'happiness', 'people', 'united', 'states', 'government', 'instituted', 'essential', 'purposes', 'may', 'enable', 'every', 'instrument', 'employed', 'administration', 'execute', 'success', 'functions', 'allotted', 'charge', 'tendering', 'homage', 'great', 'author', 'every', 'public', 'private', 'good', 'assure', 'expresses', 'sentiments', 'less', 'fellow', 'citizens', 'large', 'less', 'either', 'people', 'bound', 'acknowledge', 'adore', 'invisible', 'hand', 'conducts', 'affairs', 'men', 'united', 'states', 'every', 'step', 'advanced', 'character', 'independent', 'nation', 'seems', 'distinguished', 'token', 'providential', 'agency', 'important', 'revolution', 'accomplished', 'system', 'united', 'government', 'tranquil', 'deliberations', 'voluntary', 'consent', 'many', 'distinct', 'communities', 'event', 'resulted', 'compared', 'means', 'governments', 'established', 'without', 'return', 'pious', 'gratitude', 'along', 'humble', 'anticipation', 'future', 'blessings', 'past', 'seem', 'presage', 'reflections', 'arising', 'present', 'crisis', 'forced', 'strongly', 'mind', 'suppressed', 'join', 'trust', 'thinking', 'none', 'influence', 'proceedings', 'new', 'free', 'government', 'auspiciously', 'commence', 'article', 'establishing', 'executive', 'department', 'made', 'duty', 'president', 'recommend', 'consideration', 'measures', 'shall', 'judge', 'necessary', 'expedient', 'circumstances', 'meet', 'acquit', 'entering', 'subject', 'refer', 'great', 'constitutional', 'charter', 'assembled', 'defining', 'powers', 'designates', 'objects', 'attention', 'given', 'consistent', 'circumstances', 'far', 'congenial', 'feelings', 'actuate', 'substitute', 'place', 'recommendation', 'particular', 'measures', 'tribute', 'due', 'talents', 'rectitude', 'patriotism', 'adorn', 'characters', 'selected', 'devise', 'adopt', 'honorable', 'qualifications', 'behold', 'surest', 'pledges', 'one', 'side', 'local', 'prejudices', 'attachments', 'separate', 'views', 'party', 'animosities', 'misdirect', 'comprehensive', 'equal', 'eye', 'ought', 'watch', 'great', 'assemblage', 'communities', 'interests', 'another', 'foundation', 'national', 'policy', 'laid', 'pure', 'immutable', 'principles', 'private', 'morality', 'preeminence', 'free', 'government', 'exemplified', 'attributes', 'win', 'affections', 'citizens', 'command', 'respect', 'world', 'dwell', 'prospect', 'every', 'satisfaction', 'ardent', 'love', 'country', 'inspire', 'since', 'truth', 'thoroughly', 'established', 'exists', 'economy', 'course', 'nature', 'indissoluble', 'union', 'virtue', 'happiness', 'duty', 'advantage', 'genuine', 'maxims', 'honest', 'magnanimous', 'policy', 'solid', 'rewards', 'public', 'prosperity', 'felicity', 'since', 'ought', 'less', 'persuaded', 'propitious', 'smiles', 'heaven', 'never', 'expected', 'nation', 'disregards', 'eternal', 'rules', 'order', 'right', 'heaven', 'ordained', 'since', 'preservation', 'sacred', 'fire', 'liberty', 'destiny', 'republican', 'model', 'government', 'justly', 'considered', 'perhaps', 'deeply', 'finally', 'staked', 'experiment', 'entrusted', 'hands', 'american', 'people', 'besides', 'ordinary', 'objects', 'submitted', 'care', 'remain', 'judgment', 'decide', 'far', 'exercise', 'occasional', 'power', 'delegated', 'fifth', 'article', 'constitution', 'rendered', 'expedient', 'present', 'juncture', 'nature', 'objections', 'urged', 'system', 'degree', 'inquietude', 'given', 'birth', 'instead', 'undertaking', 'particular', 'recommendations', 'subject', 'could', 'guided', 'lights', 'derived', 'official', 'opportunities', 'shall', 'give', 'way', 'entire', 'confidence', 'discernment', 'pursuit', 'public', 'good', 'assure', 'whilst', 'carefully', 'avoid', 'every', 'alteration', 'might', 'endanger', 'benefits', 'united', 'effective', 'government', 'ought', 'await', 'future', 'lessons', 'experience', 'reverence', 'characteristic', 'rights', 'freemen', 'regard', 'public', 'harmony', 'sufficiently', 'influence', 'deliberations', 'question', 'far', 'former', 'impregnably', 'fortified', 'latter', 'safely', 'advantageously', 'promoted', 'foregoing', 'observations', 'one', 'add', 'properly', 'addressed', 'house', 'representatives', 'concerns', 'therefore', 'brief', 'possible', 'first', 'honored', 'call', 'service', 'country', 'eve', 'arduous', 'struggle', 'liberties', 'light', 'contemplated', 'duty', 'required', 'renounce', 'every', 'pecuniary', 'compensation', 'resolution', 'instance', 'departed', 'still', 'impressions', 'produced', 'must', 'decline', 'inapplicable', 'share', 'personal', 'emoluments', 'may', 'indispensably', 'included', 'permanent', 'provision', 'executive', 'department', 'must', 'accordingly', 'pray', 'pecuniary', 'estimates', 'station', 'placed', 'may', 'continuance', 'limited', 'actual', 'expenditures', 'public', 'good', 'may', 'thought', 'require', 'thus', 'imparted', 'sentiments', 'awakened', 'occasion', 'brings', 'us', 'together', 'shall', 'take', 'present', 'leave', 'without', 'resorting', 'benign', 'parent', 'human', 'race', 'humble', 'supplication', 'since', 'pleased', 'favor', 'american', 'people', 'opportunities', 'deliberating', 'perfect', 'tranquillity', 'dispositions', 'deciding', 'unparalleled', 'unanimity', 'form', 'government', 'security', 'union', 'advancement', 'happiness', 'divine', 'blessing', 'may', 'equally', 'conspicuous', 'enlarged', 'views', 'temperate', 'consultations', 'wise', 'measures', 'success', 'government', 'must', 'depend'], ['fellow', 'citizens', 'called', 'upon', 'voice', 'country', 'execute', 'functions', 'chief', 'magistrate', 'occasion', 'proper', 'shall', 'arrive', 'shall', 'endeavor', 'express', 'high', 'sense', 'entertain', 'distinguished', 'honor', 'confidence', 'reposed', 'people', 'united', 'america', 'previous', 'execution', 'official', 'act', 'president', 'constitution', 'requires', 'oath', 'office', 'oath', 'take', 'presence', 'shall', 'found', 'administration', 'government', 'instance', 'violated', 'willingly', 'knowingly', 'injunctions', 'thereof', 'may', 'besides', 'incurring', 'constitutional', 'punishment', 'subject', 'upbraidings', 'witnesses', 'present', 'solemn', 'ceremony'], ['first', 'perceived', 'early', 'times', 'middle', 'course', 'america', 'remained', 'unlimited', 'submission', 'foreign', 'legislature', 'total', 'independence', 'claims', 'men', 'reflection', 'less', 'apprehensive', 'danger', 'formidable', 'power', 'fleets', 'armies', 'must', 'determine', 'resist', 'contests', 'dissensions', 'would', 'certainly', 'arise', 'concerning', 'forms', 'government', 'instituted', 'whole', 'parts', 'extensive', 'country', 'relying', 'however', 'purity', 'intentions', 'justice', 'cause', 'integrity', 'intelligence', 'people', 'overruling', 'providence', 'signally', 'protected', 'country', 'first', 'representatives', 'nation', 'consisting', 'little', 'half', 'present', 'number', 'broke', 'pieces', 'chains', 'forging', 'rod', 'iron', 'lifted', 'frankly', 'cut', 'asunder', 'ties', 'bound', 'launched', 'ocean', 'uncertainty', 'zeal', 'ardor', 'people', 'revolutionary', 'war', 'supplying', 'place', 'government', 'commanded', 'degree', 'order', 'sufficient', 'least', 'temporary', 'preservation', 'society', 'confederation', 'early', 'felt', 'necessary', 'prepared', 'models', 'batavian', 'helvetic', 'confederacies', 'examples', 'remain', 'detail', 'precision', 'history', 'certainly', 'ones', 'people', 'large', 'ever', 'considered', 'reflecting', 'striking', 'difference', 'many', 'particulars', 'country', 'courier', 'may', 'go', 'seat', 'government', 'frontier', 'single', 'day', 'certainly', 'foreseen', 'assisted', 'congress', 'formation', 'could', 'durable', 'negligence', 'regulations', 'inattention', 'recommendations', 'disobedience', 'authority', 'individuals', 'states', 'soon', 'appeared', 'melancholy', 'consequences', 'universal', 'languor', 'jealousies', 'rivalries', 'states', 'decline', 'navigation', 'commerce', 'discouragement', 'necessary', 'manufactures', 'universal', 'fall', 'value', 'lands', 'produce', 'contempt', 'public', 'private', 'faith', 'loss', 'consideration', 'credit', 'foreign', 'nations', 'length', 'discontents', 'animosities', 'combinations', 'partial', 'conventions', 'insurrection', 'threatening', 'great', 'national', 'calamity', 'dangerous', 'crisis', 'people', 'america', 'abandoned', 'usual', 'good', 'sense', 'presence', 'mind', 'resolution', 'integrity', 'measures', 'pursued', 'concert', 'plan', 'form', 'perfect', 'union', 'establish', 'justice', 'insure', 'domestic', 'tranquillity', 'provide', 'common', 'defense', 'promote', 'general', 'welfare', 'secure', 'blessings', 'liberty', 'public', 'disquisitions', 'discussions', 'deliberations', 'issued', 'present', 'happy', 'constitution', 'government', 'employed', 'service', 'country', 'abroad', 'whole', 'course', 'transactions', 'first', 'saw', 'constitution', 'united', 'states', 'foreign', 'country', 'irritated', 'literary', 'altercation', 'animated', 'public', 'debate', 'heated', 'party', 'animosity', 'read', 'great', 'satisfaction', 'result', 'good', 'heads', 'prompted', 'good', 'hearts', 'experiment', 'better', 'adapted', 'genius', 'character', 'situation', 'relations', 'nation', 'country', 'ever', 'proposed', 'suggested', 'general', 'principles', 'great', 'outlines', 'conformable', 'system', 'government', 'ever', 'esteemed', 'states', 'native', 'state', 'particular', 'contributed', 'establish', 'claiming', 'right', 'suffrage', 'common', 'adoption', 'rejection', 'constitution', 'rule', 'posterity', 'well', 'hesitate', 'express', 'approbation', 'occasions', 'public', 'private', 'since', 'objection', 'mind', 'executive', 'senate', 'permanent', 'ever', 'entertained', 'thought', 'promoting', 'alteration', 'people', 'course', 'experience', 'see', 'feel', 'necessary', 'expedient', 'representatives', 'congress', 'state', 'legislatures', 'according', 'constitution', 'adopt', 'ordain', 'returning', 'bosom', 'country', 'painful', 'separation', 'ten', 'years', 'honor', 'elected', 'station', 'new', 'order', 'things', 'repeatedly', 'laid', 'serious', 'obligations', 'support', 'constitution', 'operation', 'equaled', 'sanguine', 'expectations', 'friends', 'habitual', 'attention', 'satisfaction', 'administration', 'delight', 'effects', 'upon', 'peace', 'order', 'prosperity', 'happiness', 'nation', 'acquired', 'habitual', 'attachment', 'veneration', 'form', 'government', 'indeed', 'well', 'deserve', 'esteem', 'love', 'may', 'little', 'solidity', 'ancient', 'idea', 'congregations', 'men', 'cities', 'nations', 'pleasing', 'objects', 'sight', 'superior', 'intelligences', 'certain', 'benevolent', 'human', 'mind', 'spectacle', 'presented', 'nation', 'pleasing', 'noble', 'majestic', 'august', 'assembly', 'like', 'often', 'seen', 'chamber', 'congress', 'government', 'executive', 'authority', 'well', 'branches', 'legislature', 'exercised', 'citizens', 'selected', 'regular', 'periods', 'neighbors', 'make', 'execute', 'laws', 'general', 'good', 'anything', 'essential', 'anything', 'mere', 'ornament', 'decoration', 'added', 'robes', 'diamonds', 'authority', 'amiable', 'respectable', 'descends', 'accidents', 'institutions', 'established', 'remote', 'antiquity', 'springs', 'fresh', 'hearts', 'judgments', 'honest', 'enlightened', 'people', 'people', 'represented', 'power', 'majesty', 'reflected', 'good', 'every', 'legitimate', 'government', 'whatever', 'form', 'may', 'appear', 'existence', 'government', 'length', 'time', 'full', 'proof', 'general', 'dissemination', 'knowledge', 'virtue', 'throughout', 'whole', 'body', 'people', 'object', 'consideration', 'pleasing', 'presented', 'human', 'mind', 'national', 'pride', 'ever', 'justifiable', 'excusable', 'springs', 'power', 'riches', 'grandeur', 'glory', 'conviction', 'national', 'innocence', 'information', 'benevolence', 'midst', 'pleasing', 'ideas', 'unfaithful', 'ever', 'lose', 'sight', 'danger', 'liberties', 'anything', 'partial', 'extraneous', 'infect', 'purity', 'free', 'fair', 'virtuous', 'independent', 'elections', 'election', 'determined', 'majority', 'single', 'vote', 'procured', 'party', 'artifice', 'corruption', 'government', 'may', 'choice', 'party', 'ends', 'nation', 'national', 'good', 'solitary', 'suffrage', 'obtained', 'foreign', 'nations', 'flattery', 'menaces', 'fraud', 'violence', 'terror', 'intrigue', 'venality', 'government', 'may', 'choice', 'american', 'people', 'foreign', 'nations', 'may', 'foreign', 'nations', 'govern', 'us', 'people', 'govern', 'candid', 'men', 'acknowledge', 'cases', 'choice', 'would', 'little', 'advantage', 'boast', 'lot', 'chance', 'amiable', 'interesting', 'system', 'government', 'abuses', 'may', 'exposed', 'people', 'america', 'exhibited', 'admiration', 'anxiety', 'wise', 'virtuous', 'nations', 'eight', 'years', 'administration', 'citizen', 'long', 'course', 'great', 'actions', 'regulated', 'prudence', 'justice', 'temperance', 'fortitude', 'conducting', 'people', 'inspired', 'virtues', 'animated', 'ardent', 'patriotism', 'love', 'liberty', 'independence', 'peace', 'increasing', 'wealth', 'unexampled', 'prosperity', 'merited', 'gratitude', 'commanded', 'highest', 'praises', 'foreign', 'nations', 'secured', 'immortal', 'glory', 'posterity', 'retirement', 'voluntary', 'choice', 'may', 'long', 'live', 'enjoy', 'delicious', 'recollection', 'services', 'gratitude', 'mankind', 'happy', 'fruits', 'world', 'daily', 'increasing', 'splendid', 'prospect', 'future', 'fortunes', 'country', 'opening', 'year', 'year', 'name', 'may', 'still', 'rampart', 'knowledge', 'lives', 'bulwark', 'open', 'secret', 'enemies', 'country', 'peace', 'example', 'recommended', 'imitation', 'successors', 'houses', 'congress', 'voice', 'legislatures', 'people', 'throughout', 'nation', 'subject', 'might', 'become', 'better', 'silent', 'speak', 'diffidence', 'something', 'may', 'expected', 'occasion', 'hope', 'admitted', 'apology', 'venture', 'say', 'preference', 'upon', 'principle', 'free', 'republican', 'government', 'formed', 'upon', 'long', 'serious', 'reflection', 'diligent', 'impartial', 'inquiry', 'truth', 'attachment', 'constitution', 'united', 'states', 'conscientious', 'determination', 'support', 'shall', 'altered', 'judgments', 'wishes', 'people', 'expressed', 'mode', 'prescribed', 'respectful', 'attention', 'constitutions', 'individual', 'states', 'constant', 'caution', 'delicacy', 'toward', 'state', 'governments', 'equal', 'impartial', 'regard', 'rights', 'interest', 'honor', 'happiness', 'states', 'union', 'without', 'preference', 'regard', 'northern', 'southern', 'eastern', 'western', 'position', 'various', 'political', 'opinions', 'unessential', 'points', 'personal', 'attachments', 'love', 'virtuous', 'men', 'parties', 'denominations', 'love', 'science', 'letters', 'wish', 'patronize', 'every', 'rational', 'effort', 'encourage', 'schools', 'colleges', 'universities', 'academies', 'every', 'institution', 'propagating', 'knowledge', 'virtue', 'religion', 'among', 'classes', 'people', 'benign', 'influence', 'happiness', 'life', 'stages', 'classes', 'society', 'forms', 'means', 'preserving', 'constitution', 'natural', 'enemies', 'spirit', 'sophistry', 'spirit', 'party', 'spirit', 'intrigue', 'profligacy', 'corruption', 'pestilence', 'foreign', 'influence', 'angel', 'destruction', 'elective', 'governments', 'love', 'equal', 'laws', 'justice', 'humanity', 'interior', 'administration', 'inclination', 'improve', 'agriculture', 'commerce', 'manufacturers', 'necessity', 'convenience', 'defense', 'spirit', 'equity', 'humanity', 'toward', 'aboriginal', 'nations', 'america', 'disposition', 'meliorate', 'condition', 'inclining', 'friendly', 'us', 'citizens', 'friendly', 'inflexible', 'determination', 'maintain', 'peace', 'inviolable', 'faith', 'nations', 'system', 'neutrality', 'impartiality', 'among', 'belligerent', 'powers', 'europe', 'adopted', 'government', 'solemnly', 'sanctioned', 'houses', 'congress', 'applauded', 'legislatures', 'states', 'public', 'opinion', 'shall', 'otherwise', 'ordained', 'congress', 'personal', 'esteem', 'french', 'nation', 'formed', 'residence', 'seven', 'years', 'chiefly', 'among', 'sincere', 'desire', 'preserve', 'friendship', 'much', 'honor', 'interest', 'nations', 'conscious', 'honor', 'integrity', 'people', 'america', 'internal', 'sentiment', 'power', 'energies', 'must', 'preserved', 'earnest', 'endeavor', 'investigate', 'every', 'cause', 'remove', 'every', 'colorable', 'pretense', 'complaint', 'intention', 'pursue', 'amicable', 'negotiation', 'reparation', 'injuries', 'committed', 'commerce', 'whatever', 'nation', 'success', 'obtained', 'lay', 'facts', 'legislature', 'may', 'consider', 'measures', 'honor', 'interest', 'government', 'constituents', 'demand', 'resolution', 'justice', 'far', 'may', 'depend', 'upon', 'times', 'nations', 'maintain', 'peace', 'friendship', 'benevolence', 'world', 'unshaken', 'confidence', 'honor', 'spirit', 'resources', 'american', 'people', 'often', 'hazarded', 'never', 'deceived', 'elevated', 'ideas', 'high', 'destinies', 'country', 'duties', 'toward', 'founded', 'knowledge', 'moral', 'principles', 'intellectual', 'improvements', 'people', 'deeply', 'engraven', 'mind', 'early', 'life', 'obscured', 'exalted', 'experience', 'age', 'humble', 'reverence', 'feel', 'duty', 'add', 'veneration', 'religion', 'people', 'profess', 'call', 'christians', 'fixed', 'resolution', 'consider', 'decent', 'respect', 'christianity', 'among', 'best', 'recommendations', 'public', 'service', 'enable', 'degree', 'comply', 'wishes', 'shall', 'strenuous', 'endeavor', 'sagacious', 'injunction', 'two', 'houses', 'shall', 'without', 'effect', 'great', 'example', 'sense', 'spirit', 'faith', 'honor', 'duty', 'interest', 'american', 'people', 'pledged', 'support', 'constitution', 'united', 'states', 'entertain', 'doubt', 'continuance', 'energy', 'mind', 'prepared', 'without', 'hesitation', 'lay', 'solemn', 'obligations', 'support', 'utmost', 'power', 'may', 'supreme', 'patron', 'order', 'fountain', 'justice', 'protector', 'ages', 'world', 'virtuous', 'liberty', 'continue', 'blessing', 'upon', 'nation', 'government', 'give', 'possible', 'success', 'duration', 'consistent', 'ends', 'providence']]\n"
     ]
    }
   ],
   "source": [
    "def load_data():\n",
    "    ####### TO DO #######\n",
    "\n",
    "    stop_words = set(stopwords.words('english'))\n",
    "    list_words = []\n",
    "    \n",
    "    # Loop through all the speeches in the inaugural corpus\n",
    "    for fileid in inaugural.fileids():\n",
    "        # Tokenize the speech\n",
    "        words = word_tokenize(inaugural.raw(fileid))\n",
    "        \n",
    "        # Remove non-letters, convert to lowercase, and remove stopwords\n",
    "        processed_words = [word.lower() for word in words if word.isalpha() and word.lower() not in stop_words]\n",
    "        \n",
    "        list_words.append(processed_words)\n",
    "    \n",
    "    return list_words\n",
    "\n",
    "    ######################\n",
    "    \n",
    "inaugural_corpus = load_data()\n",
    "print(inaugural_corpus[:3])\n"
   ]
  },
  {
   "cell_type": "markdown",
   "metadata": {},
   "source": [
    "(b)Write the  distinct_words  function to return the generated from the corpus. Function should return words where words[i] is the ith sorted distinct word from the pre-processed corpus. "
   ]
  },
  {
   "cell_type": "code",
   "execution_count": null,
   "metadata": {},
   "outputs": [
    {
     "name": "stdout",
     "output_type": "stream",
     "text": [
      "['abandon', 'abandoned', 'abandonment', 'abate', 'abdicated', 'abeyance', 'abhorring', 'abide', 'abiding', 'abilities']\n"
     ]
    }
   ],
   "source": [
    "def distinct_words(corpus):\n",
    "    ######## TO DO ########\n",
    "\n",
    "    # Flatten the corpus into a list of words\n",
    "    all_words = [word for doc in corpus for word in doc]\n",
    "    \n",
    "    # Get distinct words and sort them\n",
    "    corpus_words = sorted(set(all_words))\n",
    "    \n",
    "    # Number of distinct words\n",
    "    num_corpus_words = len(corpus_words)\n",
    "    \n",
    "    return corpus_words, num_corpus_words\n",
    "\n",
    "    #######################\n",
    "\n",
    "\n",
    "words, num_words = distinct_words(inaugural_corpus)\n",
    "print(words[:10])"
   ]
  },
  {
   "cell_type": "markdown",
   "metadata": {},
   "source": [
    "(c) Write   the   function  compute_co_occurrence_matrix to return co-occurrence matrix M and a dictionary word2Ind (which can be used to determine the index of a given word in words)."
   ]
  },
  {
   "cell_type": "code",
   "execution_count": null,
   "metadata": {},
   "outputs": [],
   "source": [
    "def compute_co_occurrence_matrix(corpus, window_size=10):\n",
    "    ######## TO DO ########\n",
    "\n",
    "    # Build a dictionary to map words to indices\n",
    "    word2Ind = {word: idx for idx, word in enumerate(words)}\n",
    "    vocab_size = len(words)\n",
    "    \n",
    "    # Initialize the co-occurrence matrix with zeros\n",
    "    M = np.zeros((vocab_size, vocab_size), dtype=int)\n",
    "    \n",
    "    # Loop through each document in the corpus\n",
    "    for doc in corpus:\n",
    "        # For each word in the document\n",
    "        for i, target_word in enumerate(doc):\n",
    "            target_idx = word2Ind[target_word]\n",
    "            \n",
    "            # Get the window around the target word\n",
    "            start = max(i - window_size, 0)\n",
    "            end = min(i + window_size + 1, len(doc))\n",
    "            \n",
    "            # Count co-occurrences\n",
    "            for j in range(start, end):\n",
    "                if i != j:  # Avoid co-occurrence with itself\n",
    "                    context_word = doc[j]\n",
    "                    context_idx = word2Ind[context_word]\n",
    "                    M[target_idx][context_idx] += 1\n",
    "    \n",
    "    return M, word2Ind\n",
    "\n",
    "    #######################\n",
    "\n",
    "\n",
    "M, word2Ind = compute_co_occurrence_matrix(inaugural_corpus)"
   ]
  },
  {
   "cell_type": "markdown",
   "metadata": {},
   "source": [
    "(d)Write the function  perform_svd  taking co-occurrence matrix M and integer k, and return there matrices U,S,V where U represents the k-dimensional word embedding."
   ]
  },
  {
   "cell_type": "code",
   "execution_count": null,
   "metadata": {},
   "outputs": [],
   "source": [
    "def perform_svd(matrix, k):\n",
    "\n",
    "    ######## TO DO ########\n",
    "\n",
    "    # Perform full SVD\n",
    "    U, S, Vh = svd(matrix)\n",
    "    \n",
    "    # Keep only the top k components\n",
    "    U_reduced = U[:, :k]\n",
    "    S_reduced = np.diag(S[:k])\n",
    "    Vh_reduced = Vh[:k, :]\n",
    "    \n",
    "    return U_reduced, S_reduced, Vh_reduced\n",
    "\n",
    "    #######################\n",
    "\n",
    "\n",
    "\n",
    "U, S, Vh = perform_svd(M, 300)"
   ]
  },
  {
   "cell_type": "markdown",
   "metadata": {},
   "source": [
    "(e) Write   the   function  train_word2vec_model  which  uses  the gensim’s word2vec model to train a corpus to generate a word embedding. "
   ]
  },
  {
   "cell_type": "code",
   "execution_count": null,
   "metadata": {},
   "outputs": [],
   "source": [
    "def train_word2vec_model(corpus,\n",
    "                         num_features=300,\n",
    "                         min_word_count=40,\n",
    "                         num_workers=4,\n",
    "                         context=10,\n",
    "                         downsampling=1e-3):\n",
    "    \n",
    "    ######## TO DO ########\n",
    "\n",
    "    model = Word2Vec(corpus, vector_size=num_features, window=context, min_count=min_word_count, workers=num_workers, sg=0)\n",
    "    return model\n",
    "\n",
    "    #######################    \n",
    "\n",
    "\n",
    "word2vec_model = train_word2vec_model(inaugural_corpus)"
   ]
  },
  {
   "cell_type": "markdown",
   "metadata": {},
   "source": [
    "(f) Finally, use the most_similar function from gensim’s word2vec model to list the words which are most similar to ‘government. Write a function most_similar that also lists the words most similar to a given word using the embedding obtained from co-occurrence matrix."
   ]
  },
  {
   "cell_type": "code",
   "execution_count": null,
   "metadata": {},
   "outputs": [],
   "source": [
    "def most_similar(word, words, word2Ind, U, top_n=10):\n",
    "\n",
    "    if word not in word2Ind:\n",
    "        return []\n",
    "    \n",
    "    word_idx = word2Ind[word]\n",
    "    word_vector = U[word_idx]\n",
    "    \n",
    "    # Compute cosine similarity between the target word and all other words\n",
    "    similarities = cosine_similarity([word_vector], U)\n",
    "    similarities = similarities.flatten()\n",
    "    \n",
    "    # Get the indices of the top_n most similar words\n",
    "    top_indices = similarities.argsort()[-top_n-1:-1][::-1]\n",
    "    \n",
    "    # Create a list of tuples (word, similarity_score)\n",
    "    similar_words = [(words[idx], similarities[idx]) for idx in top_indices]\n",
    "    \n",
    "    return similar_words\n"
   ]
  },
  {
   "cell_type": "code",
   "execution_count": 10,
   "metadata": {},
   "outputs": [
    {
     "data": {
      "text/plain": [
       "[('curb', 0.08271793889213876),\n",
       " ('faire', 0.07815378336422665),\n",
       " ('metropolis', 0.07622967558408168),\n",
       " ('arose', 0.07309154009507515),\n",
       " ('unnatural', 0.06792193381135365),\n",
       " ('writers', 0.0674900289870798),\n",
       " ('insurmountable', 0.06521574162041055),\n",
       " ('incompatible', 0.06420815195327755),\n",
       " ('unconstitutional', 0.06330624641716949),\n",
       " ('laissez', 0.06248785352198268)]"
      ]
     },
     "execution_count": 10,
     "metadata": {},
     "output_type": "execute_result"
    }
   ],
   "source": [
    "most_similar(\"government\", words, word2Ind, U)"
   ]
  },
  {
   "cell_type": "code",
   "execution_count": 11,
   "metadata": {},
   "outputs": [
    {
     "data": {
      "text/plain": [
       "[('general', 0.9996548891067505),\n",
       " ('state', 0.9996531009674072),\n",
       " ('executive', 0.9996502995491028),\n",
       " ('rights', 0.999640166759491),\n",
       " ('respect', 0.9996368288993835),\n",
       " ('legislation', 0.9996331930160522),\n",
       " ('powers', 0.9996307492256165),\n",
       " ('interests', 0.9996298551559448),\n",
       " ('law', 0.9996248483657837),\n",
       " ('upon', 0.9996204972267151)]"
      ]
     },
     "execution_count": 11,
     "metadata": {},
     "output_type": "execute_result"
    }
   ],
   "source": [
    "word2vec_model.wv.most_similar(\"government\")"
   ]
  }
 ],
 "metadata": {
  "kernelspec": {
   "display_name": "venv",
   "language": "python",
   "name": "python3"
  },
  "language_info": {
   "codemirror_mode": {
    "name": "ipython",
    "version": 3
   },
   "file_extension": ".py",
   "mimetype": "text/x-python",
   "name": "python",
   "nbconvert_exporter": "python",
   "pygments_lexer": "ipython3",
   "version": "3.11.12"
  }
 },
 "nbformat": 4,
 "nbformat_minor": 2
}
